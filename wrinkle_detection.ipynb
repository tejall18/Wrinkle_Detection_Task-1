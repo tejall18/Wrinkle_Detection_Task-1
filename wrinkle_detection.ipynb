{
 "cells": [
  {
   "cell_type": "markdown",
   "id": "d8c7475e-7395-49e4-960a-d20412fae6d9",
   "metadata": {},
   "source": [
    "### Import libraries"
   ]
  },
  {
   "cell_type": "code",
   "execution_count": null,
   "id": "58bd5f00-6e85-405d-ad27-ffa11a33e7c7",
   "metadata": {},
   "outputs": [],
   "source": [
    "import glob as glob\n",
    "import cv2\n",
    "import random\n",
    "import os\n",
    "%matplotlib inline\n",
    "\n",
    "from tensorflow.keras.preprocessing.image import ImageDataGenerator\n",
    "from tensorflow.keras.layers import Dense, Input, Dropout, Flatten, Conv2D\n",
    "from tensorflow.keras.layers import BatchNormalization, Activation, MaxPooling2D \n",
    "from tensorflow.keras.models import Model, Sequential\n",
    "from tensorflow.keras.optimizers import Adam\n",
    "from tensorflow.keras.callbacks import ModelCheckpoint, ReduceLROnPlateau\n",
    "from tensorflow.keras.utils import plot_model\n",
    "\n",
    "from matplotlib import pyplot as plt\n",
    "\n",
    "from IPython.display import SVG, Image\n",
    "import tensorflow as tf\n",
    "print(\"Tensorflow version:\", tf.__version__)"
   ]
  },
  {
   "cell_type": "code",
   "execution_count": 2,
   "id": "3b7acfd0-56f3-429f-8e56-1e049f9a7742",
   "metadata": {},
   "outputs": [
    {
     "name": "stdout",
     "output_type": "stream",
     "text": [
      "Tensorflow version: 2.9.1\n"
     ]
    }
   ],
   "source": [
    "import glob as glob\n",
    "import cv2\n",
    "import random\n",
    "import os\n",
    "import numpy as np\n",
    "import matplotlib.pyplot as plt\n",
    "\n",
    "from tensorflow.keras.preprocessing.image import ImageDataGenerator\n",
    "from tensorflow.keras.layers import Dense, Input, Dropout, Flatten, Conv2D\n",
    "from tensorflow.keras.layers import BatchNormalization, Activation, MaxPooling2D \n",
    "from tensorflow.keras.models import Model\n",
    "from tensorflow.keras.optimizers import Adam\n",
    "from tensorflow.keras.callbacks import ModelCheckpoint\n",
    "\n",
    "import tensorflow as tf\n",
    "print(\"Tensorflow version:\", tf.__version__)"
   ]
  },
  {
   "cell_type": "markdown",
   "id": "871c0299-a20b-48e9-9972-2a9769b97ba7",
   "metadata": {},
   "source": [
    "### Preparing Data for Training"
   ]
  },
  {
   "cell_type": "code",
   "execution_count": 3,
   "id": "72e2728e-d494-44d6-b212-28cacd6a765c",
   "metadata": {},
   "outputs": [
    {
     "name": "stdout",
     "output_type": "stream",
     "text": [
      "Found 28709 images belonging to 7 classes.\n",
      "Found 7178 images belonging to 7 classes.\n"
     ]
    }
   ],
   "source": [
    "img_size = 48\n",
    "batch_size = 64\n",
    "\n",
    "datagen_train = ImageDataGenerator()\n",
    "train_generator = datagen_train.flow_from_directory(\"train/\",\n",
    "                                                    target_size=(img_size, img_size),\n",
    "                                                    color_mode=\"grayscale\",\n",
    "                                                    batch_size=batch_size,\n",
    "                                                    class_mode=\"binary\",  # Binary classification for wrinkles\n",
    "                                                    shuffle=True)\n",
    "\n",
    "datagen_validation = ImageDataGenerator()\n",
    "validation_generator = datagen_train.flow_from_directory(\"test/\",\n",
    "                                                         target_size=(img_size, img_size),\n",
    "                                                         color_mode=\"grayscale\",\n",
    "                                                         batch_size=batch_size,\n",
    "                                                         class_mode=\"binary\",  # Binary classification for wrinkles\n",
    "                                                         shuffle=True)"
   ]
  },
  {
   "cell_type": "markdown",
   "id": "de8511e8-5436-4b76-aa2a-4f4bba69dce4",
   "metadata": {},
   "source": [
    "### Defining Model"
   ]
  },
  {
   "cell_type": "code",
   "execution_count": 4,
   "id": "28a24ed1-6737-4130-a6d2-753f107c7b46",
   "metadata": {},
   "outputs": [],
   "source": [
    "def Convolution(input_tensor, filters, kernel_size):\n",
    "    x = Conv2D(filters=filters, kernel_size=kernel_size, padding=\"same\")(input_tensor)\n",
    "    x = BatchNormalization()(x)\n",
    "    x = Activation('relu')(x)\n",
    "    x = MaxPooling2D(pool_size=(2, 2))(x)\n",
    "    x = Dropout(0.25)(x)\n",
    "\n",
    "    return x"
   ]
  },
  {
   "cell_type": "code",
   "execution_count": 5,
   "id": "df96cd48-56b0-469a-aa1a-8942b93f897c",
   "metadata": {},
   "outputs": [],
   "source": [
    "\n",
    "def Dense_f(input_tensor, nodes):\n",
    "    x = Dense(nodes)(input_tensor)\n",
    "    x = BatchNormalization()(x)\n",
    "    x = Activation('relu')(x)\n",
    "    x = Dropout(0.25)(x)\n",
    "\n",
    "    return x"
   ]
  },
  {
   "cell_type": "code",
   "execution_count": 6,
   "id": "f8dbccda-d6c1-40d0-be45-eacaa260849c",
   "metadata": {},
   "outputs": [],
   "source": [
    "def model_wrinkle(input_shape):\n",
    "    inputs = Input(input_shape)\n",
    "    conv_1 = Convolution(inputs, 32, (3, 3))\n",
    "    conv_2 = Convolution(conv_1, 64, (5, 5))\n",
    "    conv_3 = Convolution(conv_2, 128, (3, 3))\n",
    "\n",
    "    flatten = Flatten()(conv_3)\n",
    "\n",
    "    dense_1 = Dense_f(flatten, 256)\n",
    "\n",
    "    output = Dense(1, activation=\"sigmoid\")(dense_1)  # Sigmoid for binary classification\n",
    "    model = Model(inputs=[inputs], outputs=[output])\n",
    "\n",
    "    model.compile(loss='binary_crossentropy', optimizer='adam', metrics=['accuracy'])\n",
    "\n",
    "    return model"
   ]
  },
  {
   "cell_type": "code",
   "execution_count": 7,
   "id": "c73f5991-2e86-4981-9416-cdc20741ca2e",
   "metadata": {},
   "outputs": [
    {
     "name": "stdout",
     "output_type": "stream",
     "text": [
      "Model: \"model\"\n",
      "_________________________________________________________________\n",
      " Layer (type)                Output Shape              Param #   \n",
      "=================================================================\n",
      " input_1 (InputLayer)        [(None, 48, 48, 1)]       0         \n",
      "                                                                 \n",
      " conv2d (Conv2D)             (None, 48, 48, 32)        320       \n",
      "                                                                 \n",
      " batch_normalization (BatchN  (None, 48, 48, 32)       128       \n",
      " ormalization)                                                   \n",
      "                                                                 \n",
      " activation (Activation)     (None, 48, 48, 32)        0         \n",
      "                                                                 \n",
      " max_pooling2d (MaxPooling2D  (None, 24, 24, 32)       0         \n",
      " )                                                               \n",
      "                                                                 \n",
      " dropout (Dropout)           (None, 24, 24, 32)        0         \n",
      "                                                                 \n",
      " conv2d_1 (Conv2D)           (None, 24, 24, 64)        51264     \n",
      "                                                                 \n",
      " batch_normalization_1 (Batc  (None, 24, 24, 64)       256       \n",
      " hNormalization)                                                 \n",
      "                                                                 \n",
      " activation_1 (Activation)   (None, 24, 24, 64)        0         \n",
      "                                                                 \n",
      " max_pooling2d_1 (MaxPooling  (None, 12, 12, 64)       0         \n",
      " 2D)                                                             \n",
      "                                                                 \n",
      " dropout_1 (Dropout)         (None, 12, 12, 64)        0         \n",
      "                                                                 \n",
      " conv2d_2 (Conv2D)           (None, 12, 12, 128)       73856     \n",
      "                                                                 \n",
      " batch_normalization_2 (Batc  (None, 12, 12, 128)      512       \n",
      " hNormalization)                                                 \n",
      "                                                                 \n",
      " activation_2 (Activation)   (None, 12, 12, 128)       0         \n",
      "                                                                 \n",
      " max_pooling2d_2 (MaxPooling  (None, 6, 6, 128)        0         \n",
      " 2D)                                                             \n",
      "                                                                 \n",
      " dropout_2 (Dropout)         (None, 6, 6, 128)         0         \n",
      "                                                                 \n",
      " flatten (Flatten)           (None, 4608)              0         \n",
      "                                                                 \n",
      " dense (Dense)               (None, 256)               1179904   \n",
      "                                                                 \n",
      " batch_normalization_3 (Batc  (None, 256)              1024      \n",
      " hNormalization)                                                 \n",
      "                                                                 \n",
      " activation_3 (Activation)   (None, 256)               0         \n",
      "                                                                 \n",
      " dropout_3 (Dropout)         (None, 256)               0         \n",
      "                                                                 \n",
      " dense_1 (Dense)             (None, 1)                 257       \n",
      "                                                                 \n",
      "=================================================================\n",
      "Total params: 1,307,521\n",
      "Trainable params: 1,306,561\n",
      "Non-trainable params: 960\n",
      "_________________________________________________________________\n"
     ]
    }
   ],
   "source": [
    "model = model_wrinkle((48, 48, 1))\n",
    "model.summary()"
   ]
  },
  {
   "cell_type": "markdown",
   "id": "1bbd9e55-320a-4da4-955e-04adf9459058",
   "metadata": {},
   "source": [
    "### Initializing the Model"
   ]
  },
  {
   "cell_type": "code",
   "execution_count": 8,
   "id": "f0282221-4491-49ff-adad-399756530e94",
   "metadata": {},
   "outputs": [],
   "source": [
    "epochs = 15\n",
    "steps_per_epoch = train_generator.n // train_generator.batch_size\n",
    "validation_steps = validation_generator.n // validation_generator.batch_size\n",
    "\n",
    "checkpoint = ModelCheckpoint(\"model_weights_wrinkle.h5\", monitor='val_accuracy', save_weights_only=True, mode='max', verbose=1)\n",
    "callbacks = [checkpoint]"
   ]
  },
  {
   "cell_type": "markdown",
   "id": "d67920fc-2e36-4b24-bf0d-c0b7d4656e26",
   "metadata": {},
   "source": [
    "### Training the Model"
   ]
  },
  {
   "cell_type": "code",
   "execution_count": 9,
   "id": "b1b03629-6143-4590-87c0-b3143b511d3d",
   "metadata": {},
   "outputs": [
    {
     "name": "stdout",
     "output_type": "stream",
     "text": [
      "Epoch 1/15\n",
      "448/448 [==============================] - ETA: 0s - loss: -130.8603 - accuracy: 0.0194\n",
      "Epoch 1: saving model to model_weights_wrinkle.h5\n",
      "448/448 [==============================] - 1254s 3s/step - loss: -130.8603 - accuracy: 0.0194 - val_loss: -364.0212 - val_accuracy: 0.0155\n",
      "Epoch 2/15\n",
      "448/448 [==============================] - ETA: 0s - loss: -892.9717 - accuracy: 0.0152\n",
      "Epoch 2: saving model to model_weights_wrinkle.h5\n",
      "448/448 [==============================] - 550s 1s/step - loss: -892.9717 - accuracy: 0.0152 - val_loss: -1739.2904 - val_accuracy: 0.0155\n",
      "Epoch 3/15\n",
      "448/448 [==============================] - ETA: 0s - loss: -2418.3376 - accuracy: 0.0152\n",
      "Epoch 3: saving model to model_weights_wrinkle.h5\n",
      "448/448 [==============================] - 360s 804ms/step - loss: -2418.3376 - accuracy: 0.0152 - val_loss: -3591.0007 - val_accuracy: 0.0155\n",
      "Epoch 4/15\n",
      "448/448 [==============================] - ETA: 0s - loss: -4600.0591 - accuracy: 0.0152\n",
      "Epoch 4: saving model to model_weights_wrinkle.h5\n",
      "448/448 [==============================] - 881s 2s/step - loss: -4600.0591 - accuracy: 0.0152 - val_loss: -7066.1289 - val_accuracy: 0.0155\n",
      "Epoch 5/15\n",
      "448/448 [==============================] - ETA: 0s - loss: -7397.2690 - accuracy: 0.0152\n",
      "Epoch 5: saving model to model_weights_wrinkle.h5\n",
      "448/448 [==============================] - 729s 2s/step - loss: -7397.2690 - accuracy: 0.0152 - val_loss: -8337.6572 - val_accuracy: 0.0153\n",
      "Epoch 6/15\n",
      "448/448 [==============================] - ETA: 0s - loss: -10690.1572 - accuracy: 0.0152\n",
      "Epoch 6: saving model to model_weights_wrinkle.h5\n",
      "448/448 [==============================] - 816s 2s/step - loss: -10690.1572 - accuracy: 0.0152 - val_loss: -13365.1309 - val_accuracy: 0.0155\n",
      "Epoch 7/15\n",
      "448/448 [==============================] - ETA: 0s - loss: -14495.8271 - accuracy: 0.0152\n",
      "Epoch 7: saving model to model_weights_wrinkle.h5\n",
      "448/448 [==============================] - 450s 1s/step - loss: -14495.8271 - accuracy: 0.0152 - val_loss: -18309.4355 - val_accuracy: 0.0155\n",
      "Epoch 8/15\n",
      "448/448 [==============================] - ETA: 0s - loss: -18759.4336 - accuracy: 0.0152\n",
      "Epoch 8: saving model to model_weights_wrinkle.h5\n",
      "448/448 [==============================] - 377s 842ms/step - loss: -18759.4336 - accuracy: 0.0152 - val_loss: -17551.4434 - val_accuracy: 0.0155\n",
      "Epoch 9/15\n",
      "448/448 [==============================] - ETA: 0s - loss: -23582.8555 - accuracy: 0.0152\n",
      "Epoch 9: saving model to model_weights_wrinkle.h5\n",
      "448/448 [==============================] - 383s 855ms/step - loss: -23582.8555 - accuracy: 0.0152 - val_loss: -32509.0000 - val_accuracy: 0.0155\n",
      "Epoch 10/15\n",
      "448/448 [==============================] - ETA: 0s - loss: -28750.0195 - accuracy: 0.0152\n",
      "Epoch 10: saving model to model_weights_wrinkle.h5\n",
      "448/448 [==============================] - 368s 822ms/step - loss: -28750.0195 - accuracy: 0.0152 - val_loss: -29406.2637 - val_accuracy: 0.0155\n",
      "Epoch 11/15\n",
      "448/448 [==============================] - ETA: 0s - loss: -34391.9492 - accuracy: 0.0152\n",
      "Epoch 11: saving model to model_weights_wrinkle.h5\n",
      "448/448 [==============================] - 315s 703ms/step - loss: -34391.9492 - accuracy: 0.0152 - val_loss: -38624.4766 - val_accuracy: 0.0155\n",
      "Epoch 12/15\n",
      "448/448 [==============================] - ETA: 0s - loss: -40496.1211 - accuracy: 0.0152\n",
      "Epoch 12: saving model to model_weights_wrinkle.h5\n",
      "448/448 [==============================] - 676s 2s/step - loss: -40496.1211 - accuracy: 0.0152 - val_loss: -46051.0898 - val_accuracy: 0.0155\n",
      "Epoch 13/15\n",
      "448/448 [==============================] - ETA: 0s - loss: -46918.5586 - accuracy: 0.0152\n",
      "Epoch 13: saving model to model_weights_wrinkle.h5\n",
      "448/448 [==============================] - 339s 757ms/step - loss: -46918.5586 - accuracy: 0.0152 - val_loss: -41659.8242 - val_accuracy: 0.0155\n",
      "Epoch 14/15\n",
      "448/448 [==============================] - ETA: 0s - loss: -53852.5820 - accuracy: 0.0152\n",
      "Epoch 14: saving model to model_weights_wrinkle.h5\n",
      "448/448 [==============================] - 387s 863ms/step - loss: -53852.5820 - accuracy: 0.0152 - val_loss: -53466.4609 - val_accuracy: 0.0155\n",
      "Epoch 15/15\n",
      "448/448 [==============================] - ETA: 0s - loss: -61288.0742 - accuracy: 0.0152\n",
      "Epoch 15: saving model to model_weights_wrinkle.h5\n",
      "448/448 [==============================] - 388s 866ms/step - loss: -61288.0742 - accuracy: 0.0152 - val_loss: -56771.1328 - val_accuracy: 0.0152\n"
     ]
    }
   ],
   "source": [
    "history = model.fit(\n",
    "    x=train_generator,\n",
    "    steps_per_epoch=steps_per_epoch,\n",
    "    epochs=epochs,\n",
    "    validation_data=validation_generator,\n",
    "    validation_steps=validation_steps,\n",
    "    callbacks=callbacks\n",
    ")"
   ]
  },
  {
   "cell_type": "markdown",
   "id": "ab39e2c6-88d4-4bf6-bbf7-208e95ee7f98",
   "metadata": {},
   "source": [
    "### Model Evaluation"
   ]
  },
  {
   "cell_type": "code",
   "execution_count": 10,
   "id": "94843ac0-74e6-4f01-914f-bdfc1f60f141",
   "metadata": {},
   "outputs": [
    {
     "name": "stdout",
     "output_type": "stream",
     "text": [
      "113/113 [==============================] - 114s 1s/step - loss: -56737.8750 - accuracy: 0.0155\n"
     ]
    },
    {
     "data": {
      "text/plain": [
       "[-56737.875, 0.015463917516171932]"
      ]
     },
     "execution_count": 10,
     "metadata": {},
     "output_type": "execute_result"
    }
   ],
   "source": [
    "model.evaluate(validation_generator)"
   ]
  },
  {
   "cell_type": "markdown",
   "id": "423987d9-5a8e-413b-81e0-9ffa39109d3c",
   "metadata": {},
   "source": [
    "### Plotting Loss"
   ]
  },
  {
   "cell_type": "code",
   "execution_count": 11,
   "id": "75e99182-aa04-4a3c-98cc-48013932927d",
   "metadata": {},
   "outputs": [
    {
     "data": {
      "image/png": "[encoded data removed]",
      "text/plain": [
       "<Figure size 640x480 with 1 Axes>"
      ]
     },
     "metadata": {},
     "output_type": "display_data"
    }
   ],
   "source": [
    "plt.plot(history.history['loss'])\n",
    "plt.plot(history.history['val_loss'])\n",
    "plt.title('Model Loss')\n",
    "plt.legend(['Train', 'Validation'], loc='upper left')\n",
    "plt.show()"
   ]
  },
  {
   "cell_type": "code",
   "execution_count": 12,
   "id": "657febd7-8562-428f-9fdc-3ef180360f1c",
   "metadata": {},
   "outputs": [
    {
     "data": {
      "image/png": "[encoded data removed]",
      "text/plain": [
       "<Figure size 640x480 with 1 Axes>"
      ]
     },
     "metadata": {},
     "output_type": "display_data"
    }
   ],
   "source": [
    "plt.plot(history.history['accuracy'])\n",
    "plt.plot(history.history['val_accuracy'])\n",
    "plt.title('Model Accuracy')\n",
    "plt.legend(['Train', 'Validation'], loc='upper left')\n",
    "plt.show()"
   ]
  },
  {
   "cell_type": "markdown",
   "id": "2bc87333-52e0-44f1-ab8d-94ee02371030",
   "metadata": {},
   "source": [
    "### Saving Model"
   ]
  },
  {
   "cell_type": "code",
   "execution_count": 13,
   "id": "1a7d8036-a87b-40c3-9f05-791f04dcf607",
   "metadata": {},
   "outputs": [],
   "source": [
    "model_json = model.to_json()\n",
    "with open(\"model_wrinkle.json\", \"w\") as json_file:\n",
    "    json_file.write(model_json)"
   ]
  }
 ],
 "metadata": {
  "kernelspec": {
   "display_name": "Python 3 (ipykernel)",
   "language": "python",
   "name": "python3"
  },
  "language_info": {
   "codemirror_mode": {
    "name": "ipython",
    "version": 3
   },
   "file_extension": ".py",
   "mimetype": "text/x-python",
   "name": "python",
   "nbconvert_exporter": "python",
   "pygments_lexer": "ipython3",
   "version": "3.10.13"
  }
 },
 "nbformat": 4,
 "nbformat_minor": 5
}
